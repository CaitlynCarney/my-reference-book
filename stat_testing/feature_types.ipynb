{
 "cells": [
  {
   "cell_type": "markdown",
   "metadata": {},
   "source": [
    "# Determing if a Feature is Categorical, Continuous, or Discrete."
   ]
  },
  {
   "cell_type": "markdown",
   "metadata": {},
   "source": [
    "## Categorical Features"
   ]
  },
  {
   "cell_type": "markdown",
   "metadata": {},
   "source": [
    "Categorical data might not have a logical order.\n",
    "\n",
    "Categorical data is a common type of non-numerical data that contains label values and not numbers. Common features include gender, cities, colors, etc."
   ]
  },
  {
   "cell_type": "markdown",
   "metadata": {},
   "source": [
    "- Feature types that are Categorgical data:\n",
    "    -  Binary Features\n",
    "        - 1 and 0\n",
    "            - usually standing for Yes/No or True/False\n",
    "    - Binned Data\n",
    "        - 'Not successful', 'successful', 'very successful'\n",
    "    - Ordinal\n",
    "        - A variable that has some order associated with it like places\n",
    "    - Nominal\n",
    "        - A variable that has no numerical importance, for example color or city."
   ]
  },
  {
   "cell_type": "markdown",
   "metadata": {},
   "source": [
    "# Continuous Features"
   ]
  },
  {
   "cell_type": "markdown",
   "metadata": {},
   "source": [
    "Continuous features are numeric variables that have an infinite number of values between any two values. A continuous variable can be numeric or date/time. \n",
    "- For example, \n",
    "    - the length of a part or the date and time a payment is received.\n",
    "    - A person’s age in years.\n",
    "    - A baby’s age in months.\n"
   ]
  },
  {
   "cell_type": "markdown",
   "metadata": {},
   "source": [
    "# Descrete Features"
   ]
  },
  {
   "cell_type": "markdown",
   "metadata": {},
   "source": [
    "Discrete features are numeric variables that have a countable number of values between any two values. A discrete variable is always numeric. \n",
    "- For example, \n",
    "    - the number of customer complaints or the number of flaws or defects.\n",
    "    - money in someones bank\n",
    "- countable"
   ]
  },
  {
   "cell_type": "code",
   "execution_count": null,
   "metadata": {},
   "outputs": [],
   "source": []
  },
  {
   "cell_type": "markdown",
   "metadata": {},
   "source": []
  },
  {
   "cell_type": "markdown",
   "metadata": {},
   "source": []
  },
  {
   "cell_type": "markdown",
   "metadata": {},
   "source": []
  },
  {
   "cell_type": "markdown",
   "metadata": {},
   "source": []
  },
  {
   "cell_type": "markdown",
   "metadata": {},
   "source": []
  }
 ],
 "metadata": {
  "kernelspec": {
   "display_name": "Python 3",
   "language": "python",
   "name": "python3"
  },
  "language_info": {
   "codemirror_mode": {
    "name": "ipython",
    "version": 3
   },
   "file_extension": ".py",
   "mimetype": "text/x-python",
   "name": "python",
   "nbconvert_exporter": "python",
   "pygments_lexer": "ipython3",
   "version": "3.8.5"
  }
 },
 "nbformat": 4,
 "nbformat_minor": 4
}
