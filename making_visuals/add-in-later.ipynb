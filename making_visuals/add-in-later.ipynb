{
 "cells": [
  {
   "cell_type": "markdown",
   "metadata": {},
   "source": [
    "# How to edit a sns regplot"
   ]
  },
  {
   "cell_type": "code",
   "execution_count": null,
   "metadata": {},
   "outputs": [],
   "source": [
    "sns.lmplot(x='calculatedfinishedsquarefeet', y='logerror', col='fips', data=train, fit_reg=True, hue='fips', palette=dict({6037:\"g\", 6059:\"m\", 6111:\"k\"}), line_kws={'color': 'red'})\n",
    "# will create subplots of each one found in the col refrence\n",
    "\n",
    "# you cant make a subplot of lmplot manually"
   ]
  },
  {
   "cell_type": "code",
   "execution_count": null,
   "metadata": {},
   "outputs": [],
   "source": [
    "# Changes the color of scatter and the regression line individually in a regplot or lmplot\n",
    "(scatter_kws={\"color\": \"black\"}, line_kws={\"color\": \"red\"})"
   ]
  },
  {
   "cell_type": "code",
   "execution_count": null,
   "metadata": {},
   "outputs": [],
   "source": [
    "# allows you to change each plot color each time in a regplot or lmplot\n",
    "palette=dict({6037:\"g\", 6059:\"m\", 6111:\"k\"})"
   ]
  },
  {
   "cell_type": "markdown",
   "metadata": {},
   "source": [
    "## What plots does Seaborn have? And how do you set them up?\n",
    "\n",
    "Fro more details on each plot type please go to:\n",
    "https://seaborn.pydata.org/examples/index.html\n",
    "\n",
    "Remember there are MANY ways to set up each type of plot it just takes time to learn how to set them up in different ways\n",
    "\n",
    "- lmplot\n",
    "- scatterplot\n",
    "- lineplot\n",
    "- displot\n",
    "- relplot\n",
    "- catplot\n",
    "- boxplot\n",
    "- violinplot\n",
    "- jointplot\n",
    "- stipplot\n",
    "- jointgrid\n",
    "- FacetGrid\n",
    "- boxenplot\n",
    "- heatmap\n",
    "- JointGrid\n",
    "- kdeplot\n",
    "- Pairgrid\n",
    "- residplot\n",
    "- swarmplot\n",
    "- clustermap\n",
    "- dogplot"
   ]
  },
  {
   "cell_type": "markdown",
   "metadata": {},
   "source": [
    "## What plots does Matplotlib have? And how do you set them up?\n",
    "\n",
    "Fro more details on each plot type please go to:\n",
    "https://matplotlib.org/stable/tutorials/introductory/sample_plots.html\n",
    "\n",
    "- Line plot [plot()]\n",
    "\n",
    "- Subplots [subplots()]\n",
    "\n",
    "- Images [imshow()]\n",
    "\n",
    "- Contour [ contour()]\n",
    " \n",
    "- Pseudocolor [ pcolormesh()]\n",
    " \n",
    "- Histograms [hist()]\n",
    "\n",
    "- Paths [path()]\n",
    " \n",
    "- Three-dimensional plotting\n",
    " \n",
    "- Streamplot [ streamplot()]\n",
    "\n",
    "- Ellipses\n",
    "\n",
    "- Bar charts \n",
    "\n",
    "- Pie charts\n",
    "\n",
    "- Tables\n",
    "\n",
    "- Scatter plots\n",
    "\n",
    "- GUI widgets\n",
    "\n",
    "- Filled curves\n",
    "\n",
    "- Date handling\n",
    "\n",
    "- Log plots\n",
    "\n",
    "- Polar plots\n",
    "\n",
    "- Legends\n",
    "\n",
    "- TeX-notation for text objects\n",
    "\n",
    "- Native TeX rendering\n",
    "\n",
    "- EEG GUI\n",
    "\n",
    "- XKCD-style sketch plots"
   ]
  }
 ],
 "metadata": {
  "kernelspec": {
   "display_name": "Python 3",
   "language": "python",
   "name": "python3"
  },
  "language_info": {
   "codemirror_mode": {
    "name": "ipython",
    "version": 3
   },
   "file_extension": ".py",
   "mimetype": "text/x-python",
   "name": "python",
   "nbconvert_exporter": "python",
   "pygments_lexer": "ipython3",
   "version": "3.8.5"
  }
 },
 "nbformat": 4,
 "nbformat_minor": 4
}
